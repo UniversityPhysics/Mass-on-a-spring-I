{
 "cells": [
  {
   "cell_type": "markdown",
   "metadata": {},
   "source": [
    "# Mass on a spring\n",
    "\n",
    "The computation itself comes from from Chabay and Sherwood's exercises VP07 and VP09 http://www.compadre.org/portal/items/detail.cfm?ID=5692#tabs. They have great learning activities in the assignments as well.\n",
    "\n",
    "# Model the spring force\n",
    "Let's call the current length of the spring $L$ and relaxed length of the spring $L_0$. Then magnitude of the spring force $F_{sp}$ is proportional to the stretch $\\left(L-L_0\\right)$:  $$F=k_s \\left(\\vec{L}-\\vec{L}_0\\right)$$. A more convenient way to express this vector is in terms of a unit vector in the direction of $\\vec{L}$. Recall that a unit vector is calculated as $\\hat{L}=\\vec{L}/|L|$ and a convenient way to code this in Python is `Lhat = norm(L)`. Therefore, a vector expression for the spring force can be written in either of these two ways:\n",
    "$$\\vec{F}=-k_s \\left(\\vec{L}-\\vec{L}_0\\right) = \\left(L-L_0\\right)\\left(-\\hat{L}\\right)$$."
   ]
  },
  {
   "cell_type": "code",
   "execution_count": null,
   "metadata": {},
   "outputs": [],
   "source": [
    "## constants and data\n",
    "g = 9.8\n",
    "L0 = 0.26\n",
    "ks = 1.8\n",
    "dt = .02 \n",
    "## objects (origin is at ceiling)\n",
    "ceiling = box(pos=vector(0,0,0), length=0.2, height=0.01, width=0.2) \n",
    "ball = sphere(radius=0.025,color=color.orange, make_trail = True)\n",
    "spring = helix(pos=ceiling.pos, color=color.cyan, thickness=.003, coils=40, radius=0.010)\n",
    "# Set the ball position and make the spring axis be a vector from the ceiling.pos to the ball\n",
    "ball.pos=vector(0.2,-0.3,0)\n",
    "sprint.axis = ball.pos-ceiling.pos\n",
    "\n",
    "## initial values\n",
    "ball.velocity = vector(.2,.5,.5)\n",
    "ball.mass = 0.03\n",
    "\n",
    "#Define the force of gravity, which is a constant vector pointing in the -y direction. \n",
    "\n",
    "## improve the display\n",
    "scene.autoscale = False          ## turn off automatic camera zoom\n",
    "scene.center = vector(0,-L0,0)   ## move camera down \n",
    "scene.waitfor('click')           ## wait for a mouse click\n",
    "\n",
    "## set up a graph\n",
    "graph1=graph(title='y vs. t')\n",
    "ygraph = gcurve(gdisplay=graph1,color=ball.color)\n",
    "graph2=graph(title='v vs. t')\n",
    "vgraph = gcurve(gdisplay=graph2,color=color.blue)"
   ]
  },
  {
   "cell_type": "markdown",
   "metadata": {},
   "source": [
    "# Add time dependence\n",
    "\n",
    "Add time dependence using the Euler-Cromer method we have used in the past: update force first, then velocity, then position. "
   ]
  },
  {
   "cell_type": "code",
   "execution_count": null,
   "metadata": {},
   "outputs": [],
   "source": [
    "## calculation loop\n",
    "t = 0\n",
    "while t <100:\n",
    "    # pause long enough to make this real-time\n",
    "    sleep(dt)\n",
    "    \n",
    "    #Update net force on ball: gravity + spring\n",
    "    L = \n",
    "    Lhat = \n",
    "    s =\n",
    "    Fspring = \n",
    "    Fnet = \n",
    "    \n",
    "    #Update velocity\n",
    "    ball.velocity =\n",
    "    \n",
    "    #Update position (and re-draw spring)\n",
    "    ball.pos = \n",
    "    spring.axis = \n",
    "    \n",
    "    t = t + dt\n",
    "\n",
    "    # update the graphs to show the y-component of position and velocity\n",
    "    ygraph.plot(pos=(t, ball.pos.y))\n",
    "    vgraph.plot(pos=(t, ball.velocity.y))"
   ]
  },
  {
   "cell_type": "markdown",
   "metadata": {},
   "source": [
    "## Extend the model\n",
    "1. Complete the above code. Create motion in 3D, rather than a plane, to generate a 3D Lisajous figure. \n",
    "2. Determine the correct initial velocity and ball.pos to make a ``circular pendulum'', in which the ball simply traces out a circle without bouncing vertically. Let the spring trace out a cone with an angle of 30 degrees from the vertical. Do any necessary calculations in python, but do not change anything in your loop!  \n",
    "3. You may find it most convenient to create a copy of your code for this next part. Add air resistance, using the relationship $$F_{drag}=\\frac{1}{2}\\rho C_d A v^2\\,,$$ where for a sphere $C_d=0.5$. At what air density do you start noticing air drag? Use an initial condition that results in oscillations. Start with an air density of $\\rho=1.2$ and increase it until the effects of drag are noticable. \n",
    "\n"
   ]
  },
  {
   "cell_type": "code",
   "execution_count": null,
   "metadata": {},
   "outputs": [],
   "source": []
  }
 ],
 "metadata": {
  "kernelspec": {
   "display_name": "Python 3",
   "language": "python",
   "name": "python3"
  },
  "language_info": {
   "codemirror_mode": {
    "name": "ipython",
    "version": 3
   },
   "file_extension": ".py",
   "mimetype": "text/x-python",
   "name": "python",
   "nbconvert_exporter": "python",
   "pygments_lexer": "ipython3",
   "version": "3.6.8"
  }
 },
 "nbformat": 4,
 "nbformat_minor": 2
}

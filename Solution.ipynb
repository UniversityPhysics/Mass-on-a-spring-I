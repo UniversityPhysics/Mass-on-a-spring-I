{
 "cells": [
  {
   "cell_type": "markdown",
   "metadata": {},
   "source": [
    "# My solution\n",
    "\n"
   ]
  },
  {
   "cell_type": "code",
   "execution_count": null,
   "metadata": {},
   "outputs": [],
   "source": [
    "from vpython import * \n",
    "\n",
    "## constants and data\n",
    "g = 9.8\n",
    "mball = 0.03\n",
    "L0 = 0.26\n",
    "ks = 1.8\n",
    "dt = .02 \n",
    "## objects (origin is at ceiling)\n",
    "ceiling = box(pos=vector(0,0,0), length=0.2, height=0.01, width=0.2) \n",
    "ball = sphere(pos=vector(0.2,-0.3,0), radius=0.025,\n",
    "              color=color.orange, make_trail = True)\n",
    "spring = helix(pos=ceiling.pos, axis=ball.pos-ceiling.pos,\n",
    "               color=color.cyan, thickness=.003, coils=40, radius=0.010)\n",
    "## initial values\n",
    "pball = mball*vector(.2,.5,.5)\n",
    "Fgrav = mball*g*vector(0,-1,0)\n",
    "t = 0\n",
    "\n",
    "## improve the display\n",
    "scene.autoscale = False          ## turn off automatic camera zoom\n",
    "scene.center = vector(0,-L0,0)   ## move camera down \n",
    "scene.waitfor('click')           ## wait for a mouse click\n",
    "\n",
    "## set up a graph\n",
    "graph1=graph(title='y vs. t')\n",
    "ygraph = gcurve(gdisplay=graph1,color=ball.color)\n",
    "graph2=graph(title='v vs. t')\n",
    "vgraph = gcurve(gdisplay=graph2,color=color.blue)\n",
    "\n",
    "## calculation loop\n",
    "while t <100:\n",
    "    sleep(dt)\n",
    "    #Update net force\n",
    "    L = ball.pos - spring.pos\n",
    "    Lhat = norm(L)\n",
    "    s = mag(ball.pos)-L0\n",
    "    Fspring = -ks*s*Lhat\n",
    "    Fnet = Fgrav+Fspring\n",
    "    #Update momentum\n",
    "    pball = pball + Fnet*dt\n",
    "    #Update position (and re-draw spring)\n",
    "    ball.pos = ball.pos + (pball/mball)*dt\n",
    "    spring.axis = ball.pos - ceiling.pos\n",
    "    t = t + dt\n",
    "\n",
    "    # update the graphs\n",
    "    ygraph.plot(pos=(t, ball.pos.y))\n",
    "    vgraph.plot(pos=(t, pball.y/mball))"
   ]
  },
  {
   "cell_type": "code",
   "execution_count": null,
   "metadata": {},
   "outputs": [],
   "source": []
  }
 ],
 "metadata": {
  "kernelspec": {
   "display_name": "VPython",
   "language": "python",
   "name": "vpython"
  },
  "language_info": {
   "codemirror_mode": {
    "name": "ipython",
    "version": 3
   },
   "file_extension": ".py",
   "mimetype": "text/x-python",
   "name": "python",
   "nbconvert_exporter": "python",
   "pygments_lexer": "ipython3",
   "version": "3.7.3"
  }
 },
 "nbformat": 4,
 "nbformat_minor": 2
}
